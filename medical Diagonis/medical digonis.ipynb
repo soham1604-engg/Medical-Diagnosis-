{
 "cells": [
  {
   "cell_type": "code",
   "execution_count": 2,
   "id": "d0d24c84-88d0-4411-be9b-403a7daa1095",
   "metadata": {},
   "outputs": [],
   "source": [
    "import tkinter as tk\n",
    "from tkinter import ttk\n",
    "import numpy as np\n",
    "import pandas as pd\n",
    "import joblib\n",
    "\n",
    "# Load trained model and scaler\n",
    "model = joblib.load(\"C:/Users/91700/Desktop/python/multi_disease_model.pkl\")\n",
    "scaler = joblib.load(\"C:/Users/91700/Desktop/python/scaler.pkl\")\n",
    "label_encoders = joblib.load(\"C:/Users/91700/Desktop/python/label_encoder.pkl\")\n",
    "label_encoder = joblib.load(\"C:/Users/91700/Desktop/python/target_encoder.pkl\")\n",
    "\n",
    "# Feature names based on training data\n",
    "features = ['age', 'sex', 'TSH', 'T3', 'TT4', 'cholesterol', 'blood_pressure', 'heart_rate']\n",
    "\n",
    "def predict_disease():\n",
    "    user_data = {}\n",
    "    for feature in features:\n",
    "        value = entries[feature].get()\n",
    "        if feature == \"sex\":\n",
    "            user_data[feature] = 0 if value.lower() == \"male\" else 1\n",
    "        else:\n",
    "            user_data[feature] = float(value)\n",
    "    \n",
    "    new_data = pd.DataFrame([user_data])\n",
    "    new_data_scaled = scaler.transform(new_data)\n",
    "    prediction = model.predict(new_data_scaled)\n",
    "    disease = label_encoder.inverse_transform(prediction)[0]\n",
    "    result_label.config(text=f\"Predicted Disease: {disease}\")\n",
    "\n",
    "# GUI Setup\n",
    "root = tk.Tk()\n",
    "root.title(\"Multi-Disease Prediction System\")\n",
    "\n",
    "ttk.Label(root, text=\"Enter Patient Details\", font=(\"Arial\", 14)).grid(row=0, columnspan=2, pady=10)\n",
    "\n",
    "entries = {}\n",
    "for idx, feature in enumerate(features):\n",
    "    ttk.Label(root, text=feature.capitalize()).grid(row=idx+1, column=0, padx=10, pady=5, sticky=\"w\")\n",
    "    entry = ttk.Entry(root)\n",
    "    entry.grid(row=idx+1, column=1, padx=10, pady=5)\n",
    "    entries[feature] = entry\n",
    "\n",
    "ttk.Button(root, text=\"Predict\", command=predict_disease).grid(row=len(features)+1, columnspan=2, pady=10)\n",
    "\n",
    "result_label = ttk.Label(root, text=\"Predicted Disease: \", font=(\"Arial\", 12))\n",
    "result_label.grid(row=len(features)+2, columnspan=2, pady=10)\n",
    "\n",
    "root.mainloop()\n"
   ]
  },
  {
   "cell_type": "code",
   "execution_count": null,
   "id": "18a993b3-877d-480d-9b4b-b2d92ce1540d",
   "metadata": {},
   "outputs": [],
   "source": []
  }
 ],
 "metadata": {
  "kernelspec": {
   "display_name": "Python 3",
   "language": "python",
   "name": "python3"
  },
  "language_info": {
   "codemirror_mode": {
    "name": "ipython",
    "version": 3
   },
   "file_extension": ".py",
   "mimetype": "text/x-python",
   "name": "python",
   "nbconvert_exporter": "python",
   "pygments_lexer": "ipython3",
   "version": "undefined.undefined.undefined"
  }
 },
 "nbformat": 4,
 "nbformat_minor": 5
}
